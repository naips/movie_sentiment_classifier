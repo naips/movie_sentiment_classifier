{
 "cells": [
  {
   "cell_type": "code",
   "execution_count": 17,
   "metadata": {},
   "outputs": [],
   "source": [
    "import sqlite3\n",
    "import os\n",
    "import pandas as pd"
   ]
  },
  {
   "cell_type": "code",
   "execution_count": 2,
   "metadata": {},
   "outputs": [
    {
     "data": {
      "text/plain": [
       "<sqlite3.Cursor at 0x22b39fcbce0>"
      ]
     },
     "execution_count": 2,
     "metadata": {},
     "output_type": "execute_result"
    }
   ],
   "source": [
    "conn = sqlite3.connect('reviews.sqlite')\n",
    "c = conn.cursor()\n",
    "c.execute('CREATE TABLE review_db'\\\n",
    "' (review TEXT, sentiment INTEGER, date TEXT)')\n",
    "example1 = 'I love this movie'\n",
    "c.execute(\"INSERT INTO review_db\"\\\n",
    "    \" (review, sentiment, date) VALUES\"\\\n",
    "    \" (?, ?, DATETIME('now'))\", (example1, 1))"
   ]
  },
  {
   "cell_type": "code",
   "execution_count": 3,
   "metadata": {},
   "outputs": [],
   "source": [
    "example2 = 'I disliked this movie'\n",
    "c.execute(\"INSERT INTO review_db\"\\\n",
    "          \" (review, sentiment, date) VALUES\"\\\n",
    "          \" (?, ?, DATETIME('now'))\", (example2, 0))\n",
    "conn.commit()\n",
    "conn.close()"
   ]
  },
  {
   "cell_type": "code",
   "execution_count": 23,
   "metadata": {},
   "outputs": [],
   "source": [
    "conn = sqlite3.connect('reviews.sqlite')\n",
    "c = conn.cursor()\n",
    "c.execute(\"SELECT * FROM review_db WHERE date BETWEEN '2015-01-01 00:00:00' AND DATETIME('now')\")\n",
    "results = c.fetchall()\n",
    "conn.close()"
   ]
  },
  {
   "cell_type": "code",
   "execution_count": 24,
   "metadata": {},
   "outputs": [
    {
     "data": {
      "text/html": [
       "<div>\n",
       "<style scoped>\n",
       "    .dataframe tbody tr th:only-of-type {\n",
       "        vertical-align: middle;\n",
       "    }\n",
       "\n",
       "    .dataframe tbody tr th {\n",
       "        vertical-align: top;\n",
       "    }\n",
       "\n",
       "    .dataframe thead th {\n",
       "        text-align: right;\n",
       "    }\n",
       "</style>\n",
       "<table border=\"1\" class=\"dataframe\">\n",
       "  <thead>\n",
       "    <tr style=\"text-align: right;\">\n",
       "      <th></th>\n",
       "      <th>review</th>\n",
       "      <th>sentiment</th>\n",
       "      <th>date</th>\n",
       "    </tr>\n",
       "  </thead>\n",
       "  <tbody>\n",
       "    <tr>\n",
       "      <th>0</th>\n",
       "      <td>I love this movie</td>\n",
       "      <td>1</td>\n",
       "      <td>2020-12-03 12:07:21</td>\n",
       "    </tr>\n",
       "    <tr>\n",
       "      <th>1</th>\n",
       "      <td>I disliked this movie</td>\n",
       "      <td>0</td>\n",
       "      <td>2020-12-03 12:07:22</td>\n",
       "    </tr>\n",
       "    <tr>\n",
       "      <th>2</th>\n",
       "      <td>jhs ro sk adnbds a knsngv a KnvVS DNc  AK Sc</td>\n",
       "      <td>1</td>\n",
       "      <td>2020-12-03 14:23:29</td>\n",
       "    </tr>\n",
       "    <tr>\n",
       "      <th>3</th>\n",
       "      <td>Movie is very good. I liked it, acting was superb</td>\n",
       "      <td>1</td>\n",
       "      <td>2020-12-03 14:23:59</td>\n",
       "    </tr>\n",
       "    <tr>\n",
       "      <th>4</th>\n",
       "      <td>This is just to check if it is working fine.</td>\n",
       "      <td>0</td>\n",
       "      <td>2020-12-03 14:26:07</td>\n",
       "    </tr>\n",
       "    <tr>\n",
       "      <th>5</th>\n",
       "      <td>this movie is fantastic, acting was good.</td>\n",
       "      <td>1</td>\n",
       "      <td>2020-12-03 15:01:14</td>\n",
       "    </tr>\n",
       "    <tr>\n",
       "      <th>6</th>\n",
       "      <td>I love this movie, acting was great..</td>\n",
       "      <td>0</td>\n",
       "      <td>2020-12-03 16:01:13</td>\n",
       "    </tr>\n",
       "    <tr>\n",
       "      <th>7</th>\n",
       "      <td>I love this movie, acting was fantastic and th...</td>\n",
       "      <td>1</td>\n",
       "      <td>2020-12-04 15:14:02</td>\n",
       "    </tr>\n",
       "    <tr>\n",
       "      <th>8</th>\n",
       "      <td>This is the data by Pankaj, and also of Naipal...</td>\n",
       "      <td>1</td>\n",
       "      <td>2020-12-06 05:34:04</td>\n",
       "    </tr>\n",
       "  </tbody>\n",
       "</table>\n",
       "</div>"
      ],
      "text/plain": [
       "                                              review  sentiment  \\\n",
       "0                                  I love this movie          1   \n",
       "1                              I disliked this movie          0   \n",
       "2       jhs ro sk adnbds a knsngv a KnvVS DNc  AK Sc          1   \n",
       "3  Movie is very good. I liked it, acting was superb          1   \n",
       "4       This is just to check if it is working fine.          0   \n",
       "5          this movie is fantastic, acting was good.          1   \n",
       "6              I love this movie, acting was great..          0   \n",
       "7  I love this movie, acting was fantastic and th...          1   \n",
       "8  This is the data by Pankaj, and also of Naipal...          1   \n",
       "\n",
       "                  date  \n",
       "0  2020-12-03 12:07:21  \n",
       "1  2020-12-03 12:07:22  \n",
       "2  2020-12-03 14:23:29  \n",
       "3  2020-12-03 14:23:59  \n",
       "4  2020-12-03 14:26:07  \n",
       "5  2020-12-03 15:01:14  \n",
       "6  2020-12-03 16:01:13  \n",
       "7  2020-12-04 15:14:02  \n",
       "8  2020-12-06 05:34:04  "
      ]
     },
     "execution_count": 24,
     "metadata": {},
     "output_type": "execute_result"
    }
   ],
   "source": [
    "pd.DataFrame(results, columns=['review', 'sentiment', 'date'])"
   ]
  },
  {
   "cell_type": "code",
   "execution_count": null,
   "metadata": {},
   "outputs": [],
   "source": []
  }
 ],
 "metadata": {
  "kernelspec": {
   "display_name": "Python 3",
   "language": "python",
   "name": "python3"
  },
  "language_info": {
   "codemirror_mode": {
    "name": "ipython",
    "version": 3
   },
   "file_extension": ".py",
   "mimetype": "text/x-python",
   "name": "python",
   "nbconvert_exporter": "python",
   "pygments_lexer": "ipython3",
   "version": "3.7.9"
  }
 },
 "nbformat": 4,
 "nbformat_minor": 4
}
